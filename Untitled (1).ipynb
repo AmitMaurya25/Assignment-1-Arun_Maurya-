{
 "cells": [
  {
   "cell_type": "code",
   "execution_count": 3,
   "id": "6887df5f-8013-433d-960c-eb618ac437e7",
   "metadata": {},
   "outputs": [],
   "source": [
    "## Question 1------------------------------------------------------------------\n",
    "\n",
    "Q1. Create one variable containing following type of data:\n",
    "\n",
    "1. string = \"vivek\"\n",
    "\n",
    "2. list = [3,4,5,6,] 3. float 0.234\n",
    "\n",
    "4. tuple (12,3,4,5,6,\"Sindhu\")\n",
    "\n",
    "\n",
    "\n",
    "\n"
   ]
  },
  {
   "cell_type": "code",
   "execution_count": null,
   "id": "5805d4c3-33b6-44b0-a57a-4564e25b0583",
   "metadata": {},
   "outputs": [],
   "source": [
    "# Question2 ------------------------------------------------------------------------------------>>\n",
    "\n",
    "Q2. Given are some following variables containing data:\n",
    "\n",
    "(0) var1 = \"\n",
    "\n",
    "(11) var2= [DS, ML, Python]\"\n",
    "\n",
    "(iii) var3 = [ 'DS', 'ML, 'Python']\n",
    "\n",
    "(iv) var4 = 1.\n",
    "\n",
    "What will be the data type of the above given variable.\n",
    "\n",
    "Answer-\n",
    "\n",
    "1. String\n",
    "\n",
    "2. String\n",
    "\n",
    "3. String\n",
    "\n",
    "4. Integer\n"
   ]
  },
  {
   "cell_type": "code",
   "execution_count": null,
   "id": "19581da2-c7c9-4d4a-991d-bc55563e0e75",
   "metadata": {},
   "outputs": [],
   "source": [
    "#Question 3 ----------------------------------------------------------------------------------->>\n",
    "\n",
    "Q3. Explain the use of the following operators using an example:\n",
    "\n",
    "0/\n",
    "\n",
    "(11) %\n",
    "\n",
    "(11)//\n",
    "\n",
    "(IV)**\n",
    "\n",
    "Answer\n",
    "\n",
    "1. Division\n",
    "\n",
    "2. Modulo(integer remainder) \n",
    "\n",
    "3. Floor division\n",
    "\n",
    "4. Power operator"
   ]
  },
  {
   "cell_type": "code",
   "execution_count": null,
   "id": "93973d67-2449-4809-887f-6f42e9e133f7",
   "metadata": {},
   "outputs": [],
   "source": [
    "# Question 4------------------------------------------------------------------>>"
   ]
  },
  {
   "cell_type": "code",
   "execution_count": 4,
   "id": "6a784748-0bd9-4ec6-a229-b7a09c39e76c",
   "metadata": {},
   "outputs": [],
   "source": [
    "course_list = [\"data science\",\"data analysis\",\"java script\",\"cloud engineer\",\"tally\",\"marge\",\"cloud SQL\",\"DataCamp\", \"Dataquest\", \"c++\"]"
   ]
  },
  {
   "cell_type": "code",
   "execution_count": 5,
   "id": "8f7a277b-c925-4b79-b51e-d4541809505e",
   "metadata": {},
   "outputs": [
    {
     "name": "stdout",
     "output_type": "stream",
     "text": [
      "data science\n",
      "data analysis\n",
      "java script\n",
      "cloud engineer\n",
      "tally\n",
      "marge\n",
      "cloud SQL\n",
      "DataCamp\n",
      "Dataquest\n",
      "c++\n"
     ]
    }
   ],
   "source": [
    "for i in course_list:\n",
    "    print(i)"
   ]
  },
  {
   "cell_type": "code",
   "execution_count": 6,
   "id": "df2ef461-d4d1-4088-9be1-f724975281d4",
   "metadata": {},
   "outputs": [],
   "source": [
    "# Question 5 --------------------------------------------------------------------------------"
   ]
  },
  {
   "cell_type": "code",
   "execution_count": 4,
   "id": "a4815a6a-a327-4684-b951-d671623c2a97",
   "metadata": {},
   "outputs": [
    {
     "name": "stdout",
     "output_type": "stream",
     "text": [
      "The number A is divisible by B and can be divided 2 times.\n"
     ]
    }
   ],
   "source": [
    "A = 36  # The number to be divided\n",
    "B = 2  # The divisor\n",
    "count = 0  # Counter to keep track of the number of divisions\n",
    "\n",
    "while A % B == 0:\n",
    "    A /= B  # Divide A by B\n",
    "    count += 1  # Increment the count\n",
    "\n",
    "if count > 0:\n",
    "    print(f\"The number A is divisible by B and can be divided {count} times.\")\n",
    "else:\n",
    "    print(\"The number A is not divisible by B.\")"
   ]
  },
  {
   "cell_type": "code",
   "execution_count": 5,
   "id": "805ea848-ecb4-4646-98a4-8f5b33d0fc16",
   "metadata": {},
   "outputs": [],
   "source": [
    "# Question 6----------------------------------------------------------------------------------"
   ]
  },
  {
   "cell_type": "code",
   "execution_count": 37,
   "id": "80897123-a767-4866-b5ff-dd05240fa674",
   "metadata": {},
   "outputs": [
    {
     "name": "stdout",
     "output_type": "stream",
     "text": [
      "The 0 is divisible by 3\n",
      "The 1 is not divisible by 3\n",
      "The 2 is not divisible by 3\n",
      "The 3 is divisible by 3\n",
      "The 4 is not divisible by 3\n",
      "The 5 is not divisible by 3\n",
      "The 6 is divisible by 3\n",
      "The 7 is not divisible by 3\n",
      "The 8 is not divisible by 3\n",
      "The 9 is divisible by 3\n",
      "The 10 is not divisible by 3\n",
      "The 11 is not divisible by 3\n",
      "The 12 is divisible by 3\n",
      "The 13 is not divisible by 3\n",
      "The 14 is not divisible by 3\n",
      "The 15 is divisible by 3\n",
      "The 16 is not divisible by 3\n",
      "The 17 is not divisible by 3\n",
      "The 18 is divisible by 3\n",
      "The 19 is not divisible by 3\n",
      "The 20 is not divisible by 3\n",
      "The 21 is divisible by 3\n",
      "The 22 is not divisible by 3\n",
      "The 23 is not divisible by 3\n",
      "The 24 is divisible by 3\n"
     ]
    }
   ],
   "source": [
    "number = []\n",
    "for i in range(25):\n",
    "    number.append(i)\n",
    "    \n",
    "for number in number:\n",
    "    if number%3 == 0:\n",
    "        print(f\"The {number} is divisible by 3\")\n",
    "    else:\n",
    "        print(f\"The {number} is not divisible by 3\")\n",
    "    \n",
    "   "
   ]
  },
  {
   "cell_type": "code",
   "execution_count": 36,
   "id": "cf8d45d0-4297-48a3-aca0-19d2518987d9",
   "metadata": {},
   "outputs": [
    {
     "name": "stdout",
     "output_type": "stream",
     "text": [
      "2 is not divisible by 3\n",
      "8 is not divisible by 3\n",
      "15 is divisible by 3\n",
      "27 is divisible by 3\n",
      "33 is divisible by 3\n",
      "40 is not divisible by 3\n",
      "42 is divisible by 3\n",
      "50 is not divisible by 3\n",
      "55 is not divisible by 3\n",
      "60 is divisible by 3\n",
      "63 is divisible by 3\n",
      "70 is not divisible by 3\n",
      "75 is divisible by 3\n",
      "80 is not divisible by 3\n",
      "88 is not divisible by 3\n",
      "90 is divisible by 3\n",
      "99 is divisible by 3\n",
      "100 is not divisible by 3\n",
      "105 is divisible by 3\n",
      "110 is not divisible by 3\n",
      "120 is divisible by 3\n",
      "125 is not divisible by 3\n",
      "130 is not divisible by 3\n",
      "135 is divisible by 3\n",
      "150 is divisible by 3\n"
     ]
    }
   ],
   "source": [
    "numbers = [2, 8, 15, 27, 33, 40, 42, 50, 55, 60, 63, 70, 75, 80, 88, 90, 99, 100, 105, 110, 120, 125, 130, 135, 150]\n",
    "\n",
    "for number in numbers:\n",
    "    if number % 3 == 0:\n",
    "        print(f\"{number} is divisible by 3\")\n",
    "    else:\n",
    "        print(f\"{number} is not divisible by 3\")\n"
   ]
  },
  {
   "cell_type": "code",
   "execution_count": 1,
   "id": "b39245c6-dd32-4da6-87e6-fae0c36b30e8",
   "metadata": {},
   "outputs": [],
   "source": [
    "# Question 7------------------------------------------------------------------------------------>>\n",
    "\"\"\"\n",
    "In programming, mutable and immutable are terms used to describe the behavior of data types. \n",
    "Mutable data types can be modified or changed after they are created,\n",
    "while immutable data types cannot be modified once they are created. \n",
    "Here are some examples of mutable and immutable data types:\n",
    "\n",
    "1- Mutable Data Types:\n",
    "\n",
    "List: In Python, lists are mutable. You can add, remove, or modify elements within a list. For example:\"\"\"\n",
    "\n",
    "my_list = [1, 2, 3]\n",
    "my_list.append(4)  # Adding an element\n",
    "my_list[0] = 10    # Modifying an element\n",
    "\n",
    "\"\"\"\n",
    "Dictionary: Dictionaries in Python are mutable. You can add, remove, or modify key-value pairs. For example::\"\"\"\n",
    "\n",
    "my_dict = {'name': 'John', 'age': 25}\n",
    "my_dict['age'] = 26      # Modifying a value\n",
    "my_dict['city'] = 'NYC'  # Adding a new key-value pair\n",
    "\n",
    "\"\"\"\n",
    "2- Immutable Data Types:\n",
    "\n",
    "String: Strings in Python are immutable. Once a string is created, you cannot change its characters. For example:\"\"\"\n",
    "\n",
    "my_string = 'Hello'\n",
    "# The following line will raise an error\n",
    "my_string[0] = 'J'   # Trying to modify a character\n",
    "\n",
    "\"\"\"\n",
    "Tuple: Tuples in Python are immutable. Once created, you cannot add, remove, or modify elements. For example:\"\"\"\n",
    "\n",
    "my_tuple = (1, 2, 3)\n",
    "# The following line will raise an error\n",
    "my_tuple[0] = 10     # Trying to modify an element\n"
   ]
  },
  {
   "cell_type": "code",
   "execution_count": null,
   "id": "40bc604a-1f3e-4662-bbfe-f3016dcc27f9",
   "metadata": {},
   "outputs": [],
   "source": []
  }
 ],
 "metadata": {
  "kernelspec": {
   "display_name": "Python 3 (ipykernel)",
   "language": "python",
   "name": "python3"
  },
  "language_info": {
   "codemirror_mode": {
    "name": "ipython",
    "version": 3
   },
   "file_extension": ".py",
   "mimetype": "text/x-python",
   "name": "python",
   "nbconvert_exporter": "python",
   "pygments_lexer": "ipython3",
   "version": "3.10.8"
  }
 },
 "nbformat": 4,
 "nbformat_minor": 5
}
